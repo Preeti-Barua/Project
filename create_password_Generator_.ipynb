{
  "nbformat": 4,
  "nbformat_minor": 0,
  "metadata": {
    "colab": {
      "name": "create password Generator .ipynb",
      "provenance": []
    },
    "kernelspec": {
      "name": "python3",
      "display_name": "Python 3"
    }
  },
  "cells": [
    {
      "cell_type": "code",
      "metadata": {
        "id": "depVpEbUgK_j",
        "colab_type": "code",
        "colab": {}
      },
      "source": [
        ""
      ],
      "execution_count": null,
      "outputs": []
    },
    {
      "cell_type": "markdown",
      "metadata": {
        "id": "xI4EDqnftPPC",
        "colab_type": "text"
      },
      "source": [
        "**Small** **letter** **string** **password** "
      ]
    },
    {
      "cell_type": "code",
      "metadata": {
        "id": "CWxghScMgWV_",
        "colab_type": "code",
        "colab": {}
      },
      "source": [
        "import random\n",
        "import string"
      ],
      "execution_count": 3,
      "outputs": []
    },
    {
      "cell_type": "markdown",
      "metadata": {
        "id": "IS6QQDMothKE",
        "colab_type": "text"
      },
      "source": [
        ""
      ]
    },
    {
      "cell_type": "code",
      "metadata": {
        "id": "ZqQGKiPGo0PV",
        "colab_type": "code",
        "colab": {}
      },
      "source": [
        "def generate_strong_password(len):\n",
        "  alphabets = string.ascii_lowercase\n",
        "  return '' .join(random.choice(alphabets)for i in range(len))\n",
        "\n",
        "  "
      ],
      "execution_count": 1,
      "outputs": []
    },
    {
      "cell_type": "markdown",
      "metadata": {
        "id": "GSLYRBHItOdE",
        "colab_type": "text"
      },
      "source": [
        ""
      ]
    },
    {
      "cell_type": "code",
      "metadata": {
        "id": "1PrEaPiupabf",
        "colab_type": "code",
        "colab": {}
      },
      "source": [
        "alphabets = string.ascii_lowercase"
      ],
      "execution_count": 4,
      "outputs": []
    },
    {
      "cell_type": "code",
      "metadata": {
        "id": "2du-W-7TpewJ",
        "colab_type": "code",
        "colab": {
          "base_uri": "https://localhost:8080/",
          "height": 35
        },
        "outputId": "df877cfa-b457-42d0-bfb2-a0d83703c0cb"
      },
      "source": [
        "alphabets\n"
      ],
      "execution_count": 5,
      "outputs": [
        {
          "output_type": "execute_result",
          "data": {
            "application/vnd.google.colaboratory.intrinsic+json": {
              "type": "string"
            },
            "text/plain": [
              "'abcdefghijklmnopqrstuvwxyz'"
            ]
          },
          "metadata": {
            "tags": []
          },
          "execution_count": 5
        }
      ]
    },
    {
      "cell_type": "code",
      "metadata": {
        "id": "lgB3pbXOqDyU",
        "colab_type": "code",
        "colab": {
          "base_uri": "https://localhost:8080/",
          "height": 35
        },
        "outputId": "5022a27d-52f1-43ca-fcf0-c5241ad6ba48"
      },
      "source": [
        "av= random.choice(alphabets)\n",
        "av"
      ],
      "execution_count": 8,
      "outputs": [
        {
          "output_type": "execute_result",
          "data": {
            "application/vnd.google.colaboratory.intrinsic+json": {
              "type": "string"
            },
            "text/plain": [
              "'z'"
            ]
          },
          "metadata": {
            "tags": []
          },
          "execution_count": 8
        }
      ]
    },
    {
      "cell_type": "code",
      "metadata": {
        "id": "4RVzqMUlrEgp",
        "colab_type": "code",
        "colab": {
          "base_uri": "https://localhost:8080/",
          "height": 35
        },
        "outputId": "17ee4f26-df6b-40fa-a97f-fc2f9b0e1ac4"
      },
      "source": [
        "len= 8\n",
        "a=generate_strong_password(len)\n",
        "a"
      ],
      "execution_count": 11,
      "outputs": [
        {
          "output_type": "execute_result",
          "data": {
            "application/vnd.google.colaboratory.intrinsic+json": {
              "type": "string"
            },
            "text/plain": [
              "'tsnlnblj'"
            ]
          },
          "metadata": {
            "tags": []
          },
          "execution_count": 11
        }
      ]
    },
    {
      "cell_type": "code",
      "metadata": {
        "id": "X3Ae-FiatEn-",
        "colab_type": "code",
        "colab": {}
      },
      "source": [
        ""
      ],
      "execution_count": null,
      "outputs": []
    },
    {
      "cell_type": "markdown",
      "metadata": {
        "id": "toxIXDtytjCZ",
        "colab_type": "text"
      },
      "source": [
        "**Mixed** **of** **small** **and** **capital** **letter** **password**"
      ]
    },
    {
      "cell_type": "code",
      "metadata": {
        "id": "_V5htYKhtxcy",
        "colab_type": "code",
        "colab": {}
      },
      "source": [
        "def generate_strong_password(len):\n",
        "  alphabets= string.ascii_letters\n",
        "  return '' .join (random.choice(alphabets)for i in range(len))\n"
      ],
      "execution_count": 14,
      "outputs": []
    },
    {
      "cell_type": "code",
      "metadata": {
        "id": "XJKBXpDfuGmv",
        "colab_type": "code",
        "colab": {
          "base_uri": "https://localhost:8080/",
          "height": 35
        },
        "outputId": "6b956287-9dd0-4be7-e8fe-763abda1aa9b"
      },
      "source": [
        "len=9\n",
        "a=generate_strong_password(len)\n",
        "a"
      ],
      "execution_count": 17,
      "outputs": [
        {
          "output_type": "execute_result",
          "data": {
            "application/vnd.google.colaboratory.intrinsic+json": {
              "type": "string"
            },
            "text/plain": [
              "'LpvEhShXj'"
            ]
          },
          "metadata": {
            "tags": []
          },
          "execution_count": 17
        }
      ]
    },
    {
      "cell_type": "code",
      "metadata": {
        "id": "Vd6TVt6_vFj8",
        "colab_type": "code",
        "colab": {}
      },
      "source": [
        ""
      ],
      "execution_count": null,
      "outputs": []
    },
    {
      "cell_type": "markdown",
      "metadata": {
        "id": "ILevSEkOvIgk",
        "colab_type": "text"
      },
      "source": [
        "Mixed of small and capital and numbers String password"
      ]
    },
    {
      "cell_type": "code",
      "metadata": {
        "id": "59JEuW2FuKbx",
        "colab_type": "code",
        "colab": {
          "base_uri": "https://localhost:8080/",
          "height": 231
        },
        "outputId": "4dba391c-5156-47e0-a5a2-921a9b69f23a"
      },
      "source": [
        "def generate_strong_password(len):\n",
        "  alphabets_and_numbers= string.ascii_letters+ string.digits\n",
        "\n",
        "  return '' .join(random.choice(alphabets_and_numbers)for i in range(len))"
      ],
      "execution_count": 28,
      "outputs": [
        {
          "output_type": "error",
          "ename": "NameError",
          "evalue": "ignored",
          "traceback": [
            "\u001b[0;31m---------------------------------------------------------------------------\u001b[0m",
            "\u001b[0;31mNameError\u001b[0m                                 Traceback (most recent call last)",
            "\u001b[0;32m<ipython-input-28-c294bf89fbcc>\u001b[0m in \u001b[0;36m<module>\u001b[0;34m()\u001b[0m\n\u001b[1;32m      1\u001b[0m \u001b[0;32mdef\u001b[0m \u001b[0mgenerate_strong_password\u001b[0m\u001b[0;34m(\u001b[0m\u001b[0mlen\u001b[0m\u001b[0;34m)\u001b[0m\u001b[0;34m:\u001b[0m\u001b[0;34m\u001b[0m\u001b[0;34m\u001b[0m\u001b[0m\n\u001b[1;32m      2\u001b[0m   \u001b[0malphabets_and_numbers\u001b[0m\u001b[0;34m=\u001b[0m \u001b[0mstring\u001b[0m\u001b[0;34m.\u001b[0m\u001b[0mascii_letters\u001b[0m\u001b[0;34m+\u001b[0m \u001b[0mstring\u001b[0m\u001b[0;34m.\u001b[0m\u001b[0mdigits\u001b[0m\u001b[0;34m\u001b[0m\u001b[0;34m\u001b[0m\u001b[0m\n\u001b[0;32m----> 3\u001b[0;31m \u001b[0malphabets_and_numbers\u001b[0m\u001b[0;34m\u001b[0m\u001b[0;34m\u001b[0m\u001b[0m\n\u001b[0m\u001b[1;32m      4\u001b[0m   \u001b[0;31m##return '' .join(random.choice(alphabets_and_numbers)for i in range(len))\u001b[0m\u001b[0;34m\u001b[0m\u001b[0;34m\u001b[0m\u001b[0;34m\u001b[0m\u001b[0m\n",
            "\u001b[0;31mNameError\u001b[0m: name 'alphabets_and_numbers' is not defined"
          ]
        }
      ]
    },
    {
      "cell_type": "code",
      "metadata": {
        "id": "qWjpwWnIvOQd",
        "colab_type": "code",
        "colab": {
          "base_uri": "https://localhost:8080/",
          "height": 35
        },
        "outputId": "2b4c4bd4-98cd-4be2-e89f-d5670e42427c"
      },
      "source": [
        "len =9\n",
        "a=generate_strong_password(len)\n",
        "a"
      ],
      "execution_count": 24,
      "outputs": [
        {
          "output_type": "execute_result",
          "data": {
            "application/vnd.google.colaboratory.intrinsic+json": {
              "type": "string"
            },
            "text/plain": [
              "'iwE7Y5UXA'"
            ]
          },
          "metadata": {
            "tags": []
          },
          "execution_count": 24
        }
      ]
    },
    {
      "cell_type": "code",
      "metadata": {
        "id": "xa7G2P9HvSwo",
        "colab_type": "code",
        "colab": {}
      },
      "source": [
        ""
      ],
      "execution_count": null,
      "outputs": []
    },
    {
      "cell_type": "markdown",
      "metadata": {
        "id": "gXfzySUdwUkJ",
        "colab_type": "text"
      },
      "source": [
        "Mixed of small and capital letters numbers and symbols String password\n"
      ]
    },
    {
      "cell_type": "code",
      "metadata": {
        "id": "syyMB_KWwdzH",
        "colab_type": "code",
        "colab": {}
      },
      "source": [
        "def generate_strong_password(len):\n",
        "  password= string.ascii_letters+string.digits+string.punctuation\n",
        "  return '' .join (random.choice(password)for i in range(len))\n",
        "  "
      ],
      "execution_count": 29,
      "outputs": []
    },
    {
      "cell_type": "code",
      "metadata": {
        "id": "uLw2NQKyxVwZ",
        "colab_type": "code",
        "colab": {
          "base_uri": "https://localhost:8080/",
          "height": 35
        },
        "outputId": "d1b01064-a109-41fe-8007-eb8113ad95f3"
      },
      "source": [
        "len=8\n",
        "a=generate_strong_password(len)\n",
        "a"
      ],
      "execution_count": 30,
      "outputs": [
        {
          "output_type": "execute_result",
          "data": {
            "application/vnd.google.colaboratory.intrinsic+json": {
              "type": "string"
            },
            "text/plain": [
              "'yLz0x\"\\'c'"
            ]
          },
          "metadata": {
            "tags": []
          },
          "execution_count": 30
        }
      ]
    },
    {
      "cell_type": "code",
      "metadata": {
        "id": "Lnk_hKXtxeYw",
        "colab_type": "code",
        "colab": {}
      },
      "source": [
        ""
      ],
      "execution_count": null,
      "outputs": []
    }
  ]
}